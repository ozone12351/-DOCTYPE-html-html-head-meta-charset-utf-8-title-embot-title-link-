{
  "cells": [
    {
      "cell_type": "markdown",
      "metadata": {
        "id": "view-in-github",
        "colab_type": "text"
      },
      "source": [
        "<a href=\"https://colab.research.google.com/github/ozone12351/-DOCTYPE-html-html-head-meta-charset-utf-8-title-embot-title-link-/blob/master/Coding_Problems_ozone.ipynb\" target=\"_parent\"><img src=\"https://colab.research.google.com/assets/colab-badge.svg\" alt=\"Open In Colab\"/></a>"
      ]
    },
    {
      "cell_type": "code",
      "execution_count": null,
      "metadata": {
        "id": "-4weEzCZwd7J"
      },
      "outputs": [],
      "source": [
        "# ให้น้อง ๆ ไปที่ File > Save a copy in Drive > เลือกทำโจทย์ข้อใดข้อหนึ่งจากในลิงก์ Google Drive (หรือจะทำทั้งสองข้อก็ได้) > กด Share และตั้งค่าให้ผู้มีลิ้งค์เข้าถึงได้ > ใส่ link ลงในฟอร์มรับสมัคร"
      ]
    }
  ],
  "metadata": {
    "colab": {
      "provenance": [],
      "include_colab_link": true
    },
    "kernelspec": {
      "display_name": "Python 3",
      "name": "python3"
    },
    "language_info": {
      "name": "python"
    }
  },
  "nbformat": 4,
  "nbformat_minor": 0
}